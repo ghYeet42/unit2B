{
 "cells": [
  {
   "cell_type": "code",
   "execution_count": 1,
   "metadata": {},
   "outputs": [],
   "source": [
    "import gpt_2_simple as gpt2"
   ]
  },
  {
   "cell_type": "code",
   "execution_count": 2,
   "metadata": {},
   "outputs": [],
   "source": [
    "# gpt2.download_gpt2(model_name = '124M')"
   ]
  },
  {
   "cell_type": "code",
   "execution_count": 3,
   "metadata": {},
   "outputs": [],
   "source": [
    "session = gpt2.start_tf_sess()"
   ]
  },
  {
   "cell_type": "code",
   "execution_count": 4,
   "metadata": {},
   "outputs": [
    {
     "name": "stderr",
     "output_type": "stream",
     "text": [
      "2023-12-14 10:02:57.307405: I tensorflow/compiler/mlir/mlir_graph_optimization_pass.cc:388] MLIR V1 optimization pass is not enabled\n"
     ]
    },
    {
     "name": "stdout",
     "output_type": "stream",
     "text": [
      "Loading checkpoint checkpoint/run1/model-5\n",
      "INFO:tensorflow:Restoring parameters from checkpoint/run1/model-5\n",
      "Loading dataset...\n"
     ]
    },
    {
     "name": "stderr",
     "output_type": "stream",
     "text": [
      "100%|██████████| 1/1 [00:00<00:00,  1.37it/s]\n"
     ]
    },
    {
     "name": "stdout",
     "output_type": "stream",
     "text": [
      "dataset has 338024 tokens\n",
      "Training...\n",
      "[6 | 18.43] loss=3.70 avg=3.70\n",
      "[7 | 36.72] loss=3.98 avg=3.84\n",
      "[8 | 54.86] loss=3.69 avg=3.79\n",
      "[9 | 73.58] loss=3.58 avg=3.74\n",
      "[10 | 91.58] loss=3.75 avg=3.74\n",
      "Saving checkpoint/run1/model-10\n"
     ]
    }
   ],
   "source": [
    "gpt2.finetune(session, \"shakespeare.txt\", model_name = \"124M\", steps = 5)"
   ]
  },
  {
   "cell_type": "code",
   "execution_count": 5,
   "metadata": {},
   "outputs": [
    {
     "name": "stdout",
     "output_type": "stream",
     "text": [
      "Carter: Thou shall not pass best of them all.\n",
      "\n",
      "BATTLE OF LUCENA:\n",
      "\n",
      "There is a short battle, and we are defeated.\n",
      "\n",
      "FIRST:\n",
      "The battle is over; the rebels have been killed.\n",
      "\n",
      "FIRST:\n",
      "The rebels are dead, but the people are dead.\n",
      "\n",
      "\n",
      "FIRST:\n",
      "They are dead, but the people are dead.\n",
      "\n",
      "\n",
      "BATTLE OF LUCENA:\n",
      "They are dead, but the people are dead.\n",
      "\n",
      "\n",
      "FIRST:\n",
      "They are dead, but the people are dead.\n",
      "\n",
      "BATTLE OF LUCENA:\n",
      "They are dead, but the people are dead.\n",
      "\n",
      "\n",
      "BATTLE OF LUCENA:\n",
      "They are dead, but the people are dead.\n",
      "\n",
      "FIRST:\n",
      "The army is down.\n",
      "\n",
      "\n",
      "BATTLE OF LUCENA:\n",
      "The rebels are dead, but the people are dead.\n",
      "\n",
      "\n",
      "BATTLE OF LUCENA:\n",
      "They are dead, but the people are dead.\n",
      "\n",
      "\n",
      "BATTLE OF LUCENA:\n",
      "They are dead, but the people are dead.\n",
      "\n",
      "\n",
      "AUGUSTO:\n",
      "What is your opinion on the war?\n",
      "\n",
      "\n",
      "BATTLE OF LUCENA:\n",
      "I have not yet, but I am waiting to hear what comes.\n",
      "\n",
      "\n",
      "BATTLE OF LUCENA:\n",
      "The army is down.\n",
      "\n",
      "\n",
      "\n",
      "BATTLE OF LUCENA:\n",
      "It is as if the army had not gone up to the spot.\n",
      "\n",
      "BATTLE OF LUCENA:\n",
      "We cannot be sure of it.\n",
      "\n",
      "\n",
      "BATTLE OF LUCENA:\n",
      "We cannot be sure of it, but it is a matter of opinion.\n",
      "\n",
      "BATTLE OF LUCENA:\n",
      "I have not yet, but I am waiting to hear what comes.\n",
      "\n",
      "BATTLE OF LUCENA:\n",
      "I know it is a matter of opinion, but if I am sure I am not wrong I do not know.\n",
      "\n",
      "BATTLE OF LUCENA:\n",
      "But not wrong.\n",
      "\n",
      "\n",
      "BATTLE OF LUCENA:\n",
      "We are not sure of it, but it is a matter of opinion.\n",
      "\n",
      "BATTLE OF LUCENA:\n",
      "We are not sure of it, but it is a matter of opinion.\n",
      "\n",
      "BATTLE OF LUCENA:\n",
      "There is no war.\n",
      "\n",
      "BATTLE OF LUCENA:\n",
      "\n",
      "I do not know of it, but I am waiting to hear what comes.\n",
      "\n",
      "BATTLE OF LUCENA:\n",
      "I know of it, but I am waiting to hear what comes.\n",
      "\n",
      "BATTLE OF LUCENA:\n",
      "You do not know that, but I am waiting to hear what comes.\n",
      "\n",
      "BATTLE OF LUCENA:\n",
      "I know it, but I am waiting to hear what comes.\n",
      "\n",
      "BATTLE OF LUCENA:\n",
      "I know it, but I am waiting to hear what comes.\n",
      "\n",
      "BATTLE OF LUCENA:\n",
      "I know it, but I am waiting to hear what comes.\n",
      "\n",
      "BATTLE OF LUCENA:\n",
      "I know it, but I am waiting to hear what comes.\n",
      "\n",
      "BATTLE OF LUCENA:\n",
      "I know it, but I am waiting to hear what comes.\n",
      "\n",
      "BATTLE OF LUCENA:\n",
      "I am not young, but I know that the people are dead.\n",
      "\n",
      "BATTLE OF LUCENA:\n",
      "I am not young, but I know that the people are dead.\n",
      "\n",
      "BATTLE OF LUCENA:\n",
      "I am not young, but I know that the people are dead.\n",
      "\n",
      "BATTLE OF LUCENA:\n",
      "I am not young, but I know that the people are dead.\n",
      "\n",
      "BATTLE OF LUCENA:\n",
      "I am not young, but I know that the people are dead.\n",
      "\n",
      "BATTLE OF LUCENA:\n",
      "I know it, but I am waiting to hear what comes.\n",
      "\n",
      "BATTLE OF LUCENA:\n",
      "I know it, but I am waiting to hear what comes.\n",
      "\n",
      "BATTLE OF LUCENA:\n",
      "I know it, but I am waiting to hear what comes.\n",
      "\n",
      "BATTLE OF LUCENA:\n",
      "I know it, but I am waiting to hear what comes.\n",
      "\n",
      "BATTLE OF LUCENA:\n",
      "I know it, but I am waiting to hear what comes.\n",
      "\n",
      "BATTLE OF LUCENA:\n",
      "I know it, but I am waiting to hear what comes.\n",
      "\n",
      "BATTLE OF LUCENA:\n",
      "I know it, but I am waiting to hear what comes.\n",
      "\n",
      "BATTLE OF LUCENA:\n",
      "I know it, but I am waiting to hear what comes.\n",
      "\n",
      "BATTLE OF LUCENA:\n",
      "I know it, but I am waiting to hear what comes.\n",
      "\n",
      "B\n"
     ]
    }
   ],
   "source": [
    "gpt2.generate(session, prefix = \"Carter: Thou shall not pass\")"
   ]
  }
 ],
 "metadata": {
  "kernelspec": {
   "display_name": "Python 3",
   "language": "python",
   "name": "python3"
  },
  "language_info": {
   "codemirror_mode": {
    "name": "ipython",
    "version": 3
   },
   "file_extension": ".py",
   "mimetype": "text/x-python",
   "name": "python",
   "nbconvert_exporter": "python",
   "pygments_lexer": "ipython3",
   "version": "3.10.9"
  },
  "orig_nbformat": 4,
  "vscode": {
   "interpreter": {
    "hash": "b0fa6594d8f4cbf19f97940f81e996739fb7646882a419484c72d19e05852a7e"
   }
  }
 },
 "nbformat": 4,
 "nbformat_minor": 2
}
