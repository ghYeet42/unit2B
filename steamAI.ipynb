{
 "cells": [
  {
   "cell_type": "code",
   "execution_count": 1,
   "metadata": {},
   "outputs": [],
   "source": [
    "import gpt_2_simple as gpt2"
   ]
  },
  {
   "cell_type": "code",
   "execution_count": 2,
   "metadata": {},
   "outputs": [],
   "source": [
    "session = gpt2.start_tf_sess()"
   ]
  },
  {
   "cell_type": "code",
   "execution_count": 3,
   "metadata": {},
   "outputs": [
    {
     "name": "stderr",
     "output_type": "stream",
     "text": [
      "2023-12-19 10:46:28.111458: I tensorflow/compiler/mlir/mlir_graph_optimization_pass.cc:388] MLIR V1 optimization pass is not enabled\n"
     ]
    },
    {
     "name": "stdout",
     "output_type": "stream",
     "text": [
      "Loading checkpoint checkpoint/steam/model-85\n",
      "INFO:tensorflow:Restoring parameters from checkpoint/steam/model-85\n",
      "Loading dataset...\n"
     ]
    },
    {
     "name": "stderr",
     "output_type": "stream",
     "text": [
      "100%|██████████| 1/1 [00:00<00:00, 1200.43it/s]"
     ]
    },
    {
     "name": "stdout",
     "output_type": "stream",
     "text": [
      "dataset has 2890 tokens\n",
      "Training...\n"
     ]
    },
    {
     "name": "stderr",
     "output_type": "stream",
     "text": [
      "\n"
     ]
    },
    {
     "name": "stdout",
     "output_type": "stream",
     "text": [
      "[86 | 20.97] loss=0.01 avg=0.01\n",
      "[87 | 44.29] loss=0.01 avg=0.01\n",
      "[88 | 63.41] loss=0.02 avg=0.02\n",
      "[89 | 81.63] loss=0.04 avg=0.02\n",
      "[90 | 100.15] loss=0.02 avg=0.02\n",
      "interrupted\n",
      "Saving checkpoint/steam/model-90\n"
     ]
    }
   ],
   "source": [
    "gpt2.finetune(session, \"steam.txt\", model_name = \"124M\", steps = 15, run_name = \"steam\")"
   ]
  },
  {
   "cell_type": "code",
   "execution_count": 6,
   "metadata": {},
   "outputs": [
    {
     "name": "stdout",
     "output_type": "stream",
     "text": [
      "What do I do if I have any questions or concerns?\n",
      "\n",
      "Q: Let’s meet, we’d be happy to tour you around our facility and propose some potential collaborations, there can be benefits for both our youth and your organization.\n",
      "\n",
      "\n",
      "\n",
      "Q: What is the purpose of the Advisory Council? How often does it meet?\n",
      "\n",
      "A: In order to execute strong programs that relate to real-world skills, we need your advice, as experts in the industry that are hiring our youth, we need to hear from you. Our Advisory Council is where we discuss these details to then iterate and revise our curriculum and opportunities. We typically meet semi-annually, in January and June, but invested members can choose to be tapped more often.\n",
      "\n",
      "\n",
      "\n",
      "Q: When do you typically place interns with business? How long are the experiences?\n",
      "\n",
      "A: We have three typical internship cycles, Fall (October-January), Spring (March-May), and Summer (July-August). Internships are usually between 80-120 hours each, you are able to work with the intern to establish a schedule that works for both of you.\n",
      "\n",
      "\n",
      "\n",
      "Q: What is the expectation around intern pay and workers’ compensation insurance?\n",
      "\n",
      "A: Although we are always excited for partners that are willing to compensate interns, we understand that might not always be an option; regardless, all interns are compensated, and we will use our budget where available to pay the prevailing minimum wage rate. Workers’ compensation insurance is the responsibility of the organization that pays the scholar, so if we’re paying, we’ve covered the legality there.\n",
      "\n",
      "\n",
      "\n",
      "Q: What will my potential intern be capable of doing?\n",
      "\n",
      "A: Our scholars are enrolled in high-quality career pathway programs, you can read about their high-level overviews here. You will also have the ability to review their resume, portfolio, and industry certifications, and interview them to decide if there is a match.\n",
      "\n",
      "\n",
      "\n",
      "Q: Explain the smaller work-based learning opportunities I can get involved with.\n",
      "\n",
      "A: Beyond our internship program and industry-based project initiative, organizations may choose to schedule opportunities such as “Guest Speaking”, “Workplace Tours”, “Career Fairs”, “Job Shadowing” or “Mentoring.”\n",
      "\n",
      "\n",
      "\n",
      "### Higher Education (Colleges, Trade Schools Apprenticeships\n",
      "\n",
      "Q: Where does postsecondary education fit in the Brooklyn STEAM Center model?\n",
      "\n",
      "A: We believe that learning is a lifelong process, so we encourage our youth to start “Learning & Earning” when they’re with us and beyond, programs such as college, trade school, and apprenticeships are all viable options post-graduation.\n",
      "\n",
      "\n",
      "\n",
      "Q: Do you do tours?\n",
      "\n",
      "A: Yes, please reach out via our contact form to request a tour. \n",
      "\n",
      "\n",
      "Q: I want to spend a whole day with you to really learn about your model, is something like that possible?\n",
      "\n",
      "A: Inspiration visits are possible, for individuals and teams, which can span several hours or days. Please reach out to us so that we can collaborate on bringing that vision to life.\n",
      "\n",
      "\n",
      "\n",
      "Q: Is there a fee for these explorations?\n",
      "\n",
      "A: It depends, we want to share our model as much as we can, and based on our conversation about collaboration, deep engagements may have a small fee. Rest assured these funds are used to add to our scholar compensation fund for our internship program.\n",
      "\n",
      "\n",
      "\n",
      "### Knowledge Seeker: Model Exploration & Inspiration Visits\n",
      "\n",
      "Q: What should I be looking at to start my journey in understanding the STEAM model?\n",
      "\n",
      "A: We recommend checking out our Playbook as the prime source that breaks down our model for different audiences.\n",
      "\n",
      "\n",
      "\n",
      "Q: Do you do tours?\n",
      "\n",
      "A: Yes, please reach out to us so that we can collaborate on bringing that vision to life.\n",
      "\n",
      "\n",
      "\n",
      "Q: Do you do explorations?\n",
      "\n",
      "A: Yes, please reach out to us so that we can collaborate on bringing that vision to life.\n",
      "\n",
      "\n",
      "Q: Do you do job opportunities?\n",
      "\n",
      "A: Yes, please reach out to us so that we can discuss the business model and potential employee opportunities.\n",
      "\n",
      "\n",
      "\n",
      "Q: Do you do tours?\n",
      "\n",
      "A: Yes, please reach out to us so that we can discuss the business model and potential employee opportunities.\n",
      "\n",
      "\n",
      "Q:Q:Q:Q:Q:Q:Q:Q:Q:Q:Q:Q:Q:Q:Q:Q:Q:Q:Q:Q:Q:Q:Q:Q:Q:Q:Q:Q:Q:Q:Q:Q:Q:Q:Q:Q:Q:Q:Q:\n"
     ]
    }
   ],
   "source": [
    "gpt2.generate(session, prefix = \"Q: What do I do if I have any questions or concerns?\")"
   ]
  },
  {
   "cell_type": "code",
   "execution_count": null,
   "metadata": {},
   "outputs": [],
   "source": [
    "gpt2.generate(session, prefix = \"Q: Is the STEAM Center hiring?\")"
   ]
  },
  {
   "cell_type": "code",
   "execution_count": null,
   "metadata": {},
   "outputs": [],
   "source": [
    "gpt2.generate(session, prefix = \"Q: What is an articulation agreement?\")"
   ]
  }
 ],
 "metadata": {
  "kernelspec": {
   "display_name": "Python 3",
   "language": "python",
   "name": "python3"
  },
  "language_info": {
   "codemirror_mode": {
    "name": "ipython",
    "version": 3
   },
   "file_extension": ".py",
   "mimetype": "text/x-python",
   "name": "python",
   "nbconvert_exporter": "python",
   "pygments_lexer": "ipython3",
   "version": "3.10.9"
  },
  "orig_nbformat": 4,
  "vscode": {
   "interpreter": {
    "hash": "b0fa6594d8f4cbf19f97940f81e996739fb7646882a419484c72d19e05852a7e"
   }
  }
 },
 "nbformat": 4,
 "nbformat_minor": 2
}
